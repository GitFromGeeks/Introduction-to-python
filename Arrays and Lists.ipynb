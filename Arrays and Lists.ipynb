{
 "cells": [
  {
   "cell_type": "code",
   "execution_count": null,
   "metadata": {},
   "outputs": [],
   "source": [
    "Array sum"
   ]
  },
  {
   "cell_type": "code",
   "execution_count": null,
   "metadata": {},
   "outputs": [],
   "source": [
    "n=int(input())\n",
    "li=[int(x) for x in input().split()]\n",
    "sum=0\n",
    "for i in range(n):\n",
    "    sum=sum+li[i]\n",
    "print(sum)\n"
   ]
  },
  {
   "cell_type": "code",
   "execution_count": null,
   "metadata": {},
   "outputs": [],
   "source": [
    "swap alternates"
   ]
  },
  {
   "cell_type": "code",
   "execution_count": null,
   "metadata": {},
   "outputs": [],
   "source": [
    "from sys import stdin\n",
    "\n",
    "def swapAlternate(arr, n) :\n",
    "    i=1\n",
    "    while i<n:\n",
    "        arr[i],arr[i-1]=arr[i-1],arr[i]\n",
    "        i+=2\n",
    "#Taking Input Using Fast I/O\n",
    "def takeInput() :\n",
    "    n = int(stdin.readline().rstrip())\n",
    "\n",
    "    if n == 0 :\n",
    "        return list(), 0\n",
    "\n",
    "    arr = list(map(int, stdin.readline().rstrip().split(\" \")))\n",
    "    return arr, n\n",
    "\n",
    "\n",
    "#Printing the array/list\n",
    "def printList(arr, n) :\n",
    "    for i in range(n) :\n",
    "        print(arr[i], end = \" \")\n",
    "    print()\n",
    "\n",
    "\n",
    "#main\n",
    "t = int(stdin.readline().rstrip())\n",
    "\n",
    "while t > 0 :\n",
    "    arr, n = takeInput()\n",
    "    if n != 0 :\n",
    "        swapAlternate(arr, n)\n",
    "        printList(arr, n)\n",
    "    t -= 1"
   ]
  },
  {
   "cell_type": "code",
   "execution_count": null,
   "metadata": {},
   "outputs": [],
   "source": [
    "Find Unique\n"
   ]
  },
  {
   "cell_type": "code",
   "execution_count": null,
   "metadata": {},
   "outputs": [],
   "source": [
    "import sys\n",
    "\n",
    "def findUnique(arr, n) :\n",
    "    for i in range(n) :\n",
    "        j = 0\n",
    "        while j < n :\n",
    "            if i != j :\n",
    "                if arr[i] == arr[j] :\n",
    "                    break\n",
    "            j += 1\n",
    "        if j == n : \n",
    "            return arr[i]\n",
    "def takeInput() :\n",
    "    n = int(sys.stdin.readline().rstrip())\n",
    "\n",
    "    if n == 0 :\n",
    "        return list(), 0\n",
    "\n",
    "    arr = list(map(int, sys.stdin.readline().rstrip().split(\" \")))\n",
    "    return arr, n\n",
    "\n",
    "\n",
    "#main\n",
    "t = int(sys.stdin.readline().rstrip())\n",
    "\n",
    "while t > 0 :\n",
    "\n",
    "    arr, n = takeInput()\n",
    "    print(findUnique(arr, n))\n",
    "\n",
    "    t -= 1"
   ]
  },
  {
   "cell_type": "code",
   "execution_count": null,
   "metadata": {},
   "outputs": [],
   "source": [
    "\n",
    "Find Duplicate\n"
   ]
  },
  {
   "cell_type": "code",
   "execution_count": null,
   "metadata": {},
   "outputs": [],
   "source": [
    "\n",
    "import sys\n",
    "def duplicateNumber(arr, size) :\n",
    "    for i in range(size - 1) :\n",
    "        for j in range((i + 1), size) :\n",
    "            if arr[i] == arr[j] :\n",
    "                return arr[i] \n",
    "def takeInput() :\n",
    "    n = int(input()) \n",
    "    if n == 0 :\n",
    "        return list(), 0\n",
    "    arr = list(map(int, input().strip().split())) \n",
    "    return arr, n\n",
    "t = int(input()) \n",
    "while t > 0 :\n",
    "    arr, n = takeInput()\n",
    "    print(duplicateNumber(arr, n))\n",
    "    \n",
    "    t -= 1"
   ]
  },
  {
   "cell_type": "code",
   "execution_count": null,
   "metadata": {},
   "outputs": [],
   "source": [
    "\n",
    "Array Intersection\n"
   ]
  },
  {
   "cell_type": "code",
   "execution_count": null,
   "metadata": {},
   "outputs": [],
   "source": [
    "import sys\n",
    "\n",
    "def intersections(arr1, n, arr2, m) :\n",
    "    for i in range(n) :\n",
    "        for j in range(m) :\n",
    "            if arr1[i] == arr2[j] :\n",
    "                print(arr1[i], end = \" \")\n",
    "                arr2[j] = sys.maxsize\n",
    "                break\n",
    "\n",
    "\n",
    "\n",
    "\n",
    "def takeInput() :\n",
    "    n = int(sys.stdin.readline().strip())\n",
    "    if n == 0:\n",
    "        return list(), 0\n",
    "\n",
    "    arr = list(map(int, sys.stdin.readline().strip().split(\" \")))\n",
    "    return arr, n\n",
    "\n",
    "\n",
    "#main\n",
    "t = int(sys.stdin.readline().strip())\n",
    "\n",
    "while t > 0 :\n",
    "    arr1, n = takeInput()\n",
    "    arr2, m = takeInput()\n",
    "\n",
    "    intersections(arr1, n, arr2, m)\n",
    "    print()\n",
    "\n",
    "    t -= 1"
   ]
  },
  {
   "cell_type": "code",
   "execution_count": null,
   "metadata": {},
   "outputs": [],
   "source": [
    "\n",
    "Pair Sum\n"
   ]
  },
  {
   "cell_type": "code",
   "execution_count": null,
   "metadata": {},
   "outputs": [],
   "source": [
    "from sys import stdin \n",
    "def pairSum(arr, size, x) :\n",
    "    numPairs = 0\n",
    "    for i in range(size) :\n",
    "        for j in range((i+1), size) :\n",
    "            if arr[i] + arr[j] == x :\n",
    "                numPairs += 1\n",
    "    return numPairs \n",
    "def takeInput() :\n",
    "    n = int(input())\n",
    "    if n == 0 :\n",
    "        return list(), 0\n",
    "    arr = list(map(int, input().strip().split(\" \")))\n",
    "    return arr, n\n",
    "t = int(input()) \n",
    "while t > 0 :\n",
    "    arr, n = takeInput()\n",
    "    x = int(input())\n",
    "    print(pairSum(arr, n, x)) \n",
    "    \n",
    "    t -= 1\n"
   ]
  },
  {
   "cell_type": "code",
   "execution_count": null,
   "metadata": {},
   "outputs": [],
   "source": [
    "\n",
    "Triplet Sum\n"
   ]
  },
  {
   "cell_type": "code",
   "execution_count": null,
   "metadata": {},
   "outputs": [],
   "source": [
    "\n",
    "from sys import stdin \n",
    "def findTriplet(arr, n, x) :\n",
    "    numTriplets = 0 \n",
    "    for i in range(n) : \n",
    "        for j in range((i + 1), n) :\n",
    "            for k in range((j + 1), n) : \n",
    "                if (arr[i] + arr[j] + arr[k]) == x :\n",
    "                    numTriplets += 1 \n",
    "    return numTriplets \n",
    "def takeInput() :\n",
    "    n = int(input())\n",
    "    if n == 0 : \n",
    "        return list(), 0\n",
    "    arr = list(map(int, input().strip().split(\" \")))\n",
    "    return arr, n \n",
    "t = int(input().strip())\n",
    "while t > 0 :\n",
    "    arr, n = takeInput()\n",
    "    x = int(input().strip()) \n",
    "    print(findTriplet(arr, n, x))\n",
    "    \n",
    "    t -= 1"
   ]
  },
  {
   "cell_type": "code",
   "execution_count": null,
   "metadata": {},
   "outputs": [],
   "source": [
    "\n",
    "Sort 0 1\n"
   ]
  },
  {
   "cell_type": "code",
   "execution_count": null,
   "metadata": {},
   "outputs": [],
   "source": [
    "from sys import stdin \n",
    "def sortZeroesAndOne(arr, n) : \n",
    "    nextZero = 0 \n",
    "    for i in range(n) : \n",
    "        if arr[i] == 0 :\n",
    "            temp = arr[nextZero] \n",
    "            arr[nextZero] = arr[i]\n",
    "            arr[i] = temp \n",
    "            nextZero += 1 \n",
    "def takeInput() :\n",
    "    n = int(input().strip())\n",
    "    if n == 0 : \n",
    "        return list(), 0 \n",
    "    arr = list(map(int, input().strip().split(\" \"))) \n",
    "    return arr, n\n",
    "def printList(arr, n) :\n",
    "    for i in range(n) : \n",
    "        print(arr[i], end = ' ') \n",
    "    print()\n",
    "t = int(input()) \n",
    "while t > 0 :\n",
    "    arr, n = takeInput()\n",
    "    sortZeroesAndOne(arr, n)\n",
    "    printList(arr, n) \n",
    "    print() \n",
    "    \n",
    "    t -= 1"
   ]
  }
 ],
 "metadata": {
  "kernelspec": {
   "display_name": "Python 3",
   "language": "python",
   "name": "python3"
  },
  "language_info": {
   "codemirror_mode": {
    "name": "ipython",
    "version": 3
   },
   "file_extension": ".py",
   "mimetype": "text/x-python",
   "name": "python",
   "nbconvert_exporter": "python",
   "pygments_lexer": "ipython3",
   "version": "3.8.5"
  }
 },
 "nbformat": 4,
 "nbformat_minor": 4
}
