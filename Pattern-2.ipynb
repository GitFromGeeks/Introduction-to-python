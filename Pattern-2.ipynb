{
 "cells": [
  {
   "cell_type": "code",
   "execution_count": null,
   "metadata": {},
   "outputs": [],
   "source": [
    "Number Pattern"
   ]
  },
  {
   "cell_type": "code",
   "execution_count": 1,
   "metadata": {},
   "outputs": [
    {
     "name": "stdout",
     "output_type": "stream",
     "text": [
      "5\n",
      "1        1\n",
      "12      21\n",
      "123    321\n",
      "1234  4321\n",
      "1234554321\n"
     ]
    }
   ],
   "source": [
    "a=int(input())\n",
    "\n",
    "for k in range(1,a+1):\n",
    "    b='1'\n",
    "    for i in range(2,a+1):\n",
    "        c=str(i)\n",
    "        if k >= i:\n",
    "            b=b+c\n",
    "        else:\n",
    "            b=b+' '\n",
    "    for j in range(a,0,-1):\n",
    "        d=str(j)\n",
    "        if k >= j:\n",
    "            b=b+d\n",
    "        else:\n",
    "            b=b+' '\n",
    "    print(b)"
   ]
  },
  {
   "cell_type": "code",
   "execution_count": null,
   "metadata": {},
   "outputs": [],
   "source": [
    "Zero and Stars Pattern"
   ]
  },
  {
   "cell_type": "code",
   "execution_count": 2,
   "metadata": {},
   "outputs": [
    {
     "name": "stdout",
     "output_type": "stream",
     "text": [
      "5\n",
      "*0000*0000*\n",
      "0*000*000*0\n",
      "00*00*00*00\n",
      "000*0*0*000\n",
      "0000***0000\n"
     ]
    }
   ],
   "source": [
    "lines=int(input()) \n",
    "i=1  \n",
    "j=1  \n",
    "while i<=lines:  \n",
    "    j=1  \n",
    "    while j<=lines:      \n",
    "        if i==j:  \n",
    "            print(\"*\", end='', flush=True)  \n",
    "        else :  \n",
    "            print(\"0\", end='', flush=True)  \n",
    "        j=j+1\n",
    "    j=j-1;\n",
    "    print(\"*\", end='', flush=True)\n",
    "    while j>=1:\n",
    "        if i==j:\n",
    "            print(\"*\", end='', flush=True)\n",
    "        else :\n",
    "            print(\"0\", end='', flush=True)\n",
    "        j=j-1\n",
    "    print(\"\");\n",
    "    i=i+1"
   ]
  },
  {
   "cell_type": "code",
   "execution_count": null,
   "metadata": {},
   "outputs": [],
   "source": [
    "Pyramid Number Pattern"
   ]
  },
  {
   "cell_type": "code",
   "execution_count": 3,
   "metadata": {},
   "outputs": [
    {
     "name": "stdout",
     "output_type": "stream",
     "text": [
      "5\n",
      "    1\n",
      "   212\n",
      "  32123\n",
      " 4321234\n",
      "543212345\n"
     ]
    }
   ],
   "source": [
    "num=int(input())\n",
    "for i in range(1,num+1):\n",
    "    for j in range(1,num-i+1):\n",
    "        print(end=\" \")\n",
    "    for j in range(i,0,-1):\n",
    "        print(j,end=\"\")\n",
    "    for j in range(2,i+1):\n",
    "        print(j,end=\"\")\n",
    "    print()"
   ]
  },
  {
   "cell_type": "code",
   "execution_count": null,
   "metadata": {},
   "outputs": [],
   "source": [
    "Arrow Pattern"
   ]
  },
  {
   "cell_type": "code",
   "execution_count": 4,
   "metadata": {},
   "outputs": [
    {
     "name": "stdout",
     "output_type": "stream",
     "text": [
      "5\n",
      "* \n",
      " * * \n",
      "  * * * \n",
      " * * \n",
      "* \n"
     ]
    }
   ],
   "source": [
    "n = int(input())\n",
    "n1 = (n+1)//2\n",
    "n2 = n-n1\n",
    "\n",
    "for i in range(1,n1+1):\n",
    "    for j in range(1,i):\n",
    "        print(' ',end='')\n",
    "    for k in range(1,i+1):\n",
    "        print('* ',end='')\n",
    "    print()    \n",
    "\n",
    "for i in range(n2,0,-1):\n",
    "    for j in range(1,i):\n",
    "        print(' ',end='')\n",
    "    for k in range(1,i+1):\n",
    "        print('* ',end='')\n",
    "    print()"
   ]
  }
 ],
 "metadata": {
  "kernelspec": {
   "display_name": "Python 3",
   "language": "python",
   "name": "python3"
  },
  "language_info": {
   "codemirror_mode": {
    "name": "ipython",
    "version": 3
   },
   "file_extension": ".py",
   "mimetype": "text/x-python",
   "name": "python",
   "nbconvert_exporter": "python",
   "pygments_lexer": "ipython3",
   "version": "3.8.5"
  }
 },
 "nbformat": 4,
 "nbformat_minor": 4
}
