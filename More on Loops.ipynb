{
 "cells": [
  {
   "cell_type": "code",
   "execution_count": null,
   "metadata": {},
   "outputs": [],
   "source": [
    "\n",
    "Binary Pattern\n"
   ]
  },
  {
   "cell_type": "code",
   "execution_count": null,
   "metadata": {},
   "outputs": [],
   "source": [
    "n=int(input())\n",
    "for i in range(1,n+1,1):\n",
    "    for j in range(1,n-i+2,1):\n",
    "        if i%2==0:\n",
    "            print(0,end=\"\")\n",
    "        else:\n",
    "            print(1,end=\"\")\n",
    "    print()"
   ]
  },
  {
   "cell_type": "code",
   "execution_count": null,
   "metadata": {},
   "outputs": [],
   "source": [
    "\n",
    "Print Number Pyramid\n"
   ]
  },
  {
   "cell_type": "code",
   "execution_count": null,
   "metadata": {},
   "outputs": [],
   "source": [
    "\n",
    "n = int(input())\n",
    "for i in range(1,n+1,1):\n",
    "    for spaces in range(1, i, 1):\n",
    "        print(\" \", end ='')\n",
    "    for j in range(i, n+1, 1):\n",
    "        print(j, end = '')\n",
    "    print()\n",
    "for i in range(n, 2*n - 1, 1):\n",
    "    for spaces in range(2*n-i-1, 1, -1):\n",
    "        print(\" \", end = '')\n",
    "    for k in range(2*n-i-1 ,n+1, 1):\n",
    "        print(k, end = '')    \n",
    "    print()"
   ]
  },
  {
   "cell_type": "code",
   "execution_count": null,
   "metadata": {},
   "outputs": [],
   "source": [
    "\n",
    "Diamond of Stars\n"
   ]
  },
  {
   "cell_type": "code",
   "execution_count": null,
   "metadata": {},
   "outputs": [],
   "source": [
    "n=int(input())\n",
    "n1=(n//2+1)\n",
    "for i in range(1,n1+1):\n",
    "    for s in range(1,n1-i+1):\n",
    "        print(' ',end='')\n",
    "    for i in range(1,2*i):\n",
    "        print('*',end='')\n",
    "    print()\n",
    "n2=n-n1\n",
    "for i in range(n2,0,-1):\n",
    "    for s in range(1,n1-i+1):\n",
    "        print(' ',end='')\n",
    "    for i in range(1,2*i):\n",
    "        print('*',end='')\n",
    "    print()\n"
   ]
  },
  {
   "cell_type": "code",
   "execution_count": null,
   "metadata": {},
   "outputs": [],
   "source": [
    "\n",
    "Rectangular numbers\n"
   ]
  },
  {
   "cell_type": "code",
   "execution_count": null,
   "metadata": {},
   "outputs": [],
   "source": [
    "n = int(input())\n",
    "temp = n\n",
    "\n",
    "for i in range(1,n+1):\n",
    "    for j in range(1, i, 1):\n",
    "        for x in range(1, i, 2*i):\n",
    "            print(n-j+1, end = '')\n",
    "    for k in range(2*n - 2*i + 2, 1, -1):\n",
    "        print(temp, end = '') \n",
    "    temp = temp - 1\n",
    "    for j in range(i, 1, -1):\n",
    "        for x in range(1, i, 2*i):\n",
    "            print(n-j+2, end = '') \n",
    "    print()\n",
    "    \n",
    "temp = 2\n",
    "for i in range(n, 1, -1):\n",
    "    for j in range(2, i, 1):\n",
    "        print(n - j + 2, end = '')\n",
    "    for k in range(2*n - i , i-3, -1):\n",
    "        print(temp, end = '')\n",
    "    for x in range(i-1, 1, -1):\n",
    "        print(n - x + 2, end = '')\n",
    "    temp = temp + 1\n",
    "    print()"
   ]
  },
  {
   "cell_type": "code",
   "execution_count": null,
   "metadata": {},
   "outputs": [],
   "source": [
    "\n",
    "Print the pattern"
   ]
  },
  {
   "cell_type": "code",
   "execution_count": null,
   "metadata": {},
   "outputs": [],
   "source": [
    "n = int(input()) \n",
    "s = 1\n",
    "for i in range(1,n+1): \n",
    "    for j in range(s ,s + n):\n",
    "        print(j,end=\" \")\n",
    "    print()\n",
    "    if(i==((n+1)//2)):\n",
    "        if((n%2)!=0):\n",
    "            s = n*(n-2)+1\n",
    "        else:\n",
    "            s = n*(n-1) + 1\n",
    "    elif((i>(n+1)//2)):\n",
    "        s = s - 2*n\n",
    "    else:\n",
    "        s = s + 2*n"
   ]
  },
  {
   "cell_type": "code",
   "execution_count": null,
   "metadata": {},
   "outputs": [],
   "source": []
  }
 ],
 "metadata": {
  "kernelspec": {
   "display_name": "Python 3",
   "language": "python",
   "name": "python3"
  },
  "language_info": {
   "codemirror_mode": {
    "name": "ipython",
    "version": 3
   },
   "file_extension": ".py",
   "mimetype": "text/x-python",
   "name": "python",
   "nbconvert_exporter": "python",
   "pygments_lexer": "ipython3",
   "version": "3.8.5"
  }
 },
 "nbformat": 4,
 "nbformat_minor": 4
}
